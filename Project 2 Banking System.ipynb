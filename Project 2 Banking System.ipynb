{
 "cells": [
  {
   "cell_type": "code",
   "execution_count": 33,
   "metadata": {},
   "outputs": [
    {
     "name": "stdout",
     "output_type": "stream",
     "text": [
      "Personal details \n",
      "\n",
      "Your name mahmoud\n",
      "Your age 23\n",
      "Your gender male\n",
      "None\n"
     ]
    }
   ],
   "source": [
    "#Parent Class\n",
    "\n",
    "class Users ():\n",
    "    def __init__(self,name, age,gender):\n",
    "        self.name = name\n",
    "        self.age = age\n",
    "        self.gender = gender\n",
    "        \n",
    "    def show_details(self):\n",
    "        print(\"Personal details \")\n",
    "        print(\"\")\n",
    "        print(\"Your name\",self.name)\n",
    "        print(\"Your age\",self.age)\n",
    "        print(\"Your gender\",self.gender)\n",
    "        \n",
    "user = Users(\"mahmoud\",23,\"male\")\n",
    "print(user.show_details())"
   ]
  },
  {
   "cell_type": "code",
   "execution_count": 21,
   "metadata": {},
   "outputs": [],
   "source": [
    "# Child Class\n",
    "class Bank(Users):\n",
    "    def __init__(self,name, age,gender):\n",
    "        super(). __init__(name, age,gender)\n",
    "        self.balance = 0\n",
    "        \n",
    "        \n",
    "    def deposit(self,amount):\n",
    "        self.amount = amount\n",
    "        self.balance = self.balance + self.amount\n",
    "        print(\"Account balance has been updated \",self.balance)\n",
    "        "
   ]
  },
  {
   "cell_type": "code",
   "execution_count": 22,
   "metadata": {},
   "outputs": [],
   "source": [
    "mahmoud = Bank(\"mahmoud\",30,\"male\")"
   ]
  },
  {
   "cell_type": "code",
   "execution_count": 23,
   "metadata": {},
   "outputs": [
    {
     "data": {
      "text/plain": [
       "30"
      ]
     },
     "execution_count": 23,
     "metadata": {},
     "output_type": "execute_result"
    }
   ],
   "source": [
    "mahmoud.age"
   ]
  },
  {
   "cell_type": "code",
   "execution_count": 24,
   "metadata": {},
   "outputs": [
    {
     "data": {
      "text/plain": [
       "'male'"
      ]
     },
     "execution_count": 24,
     "metadata": {},
     "output_type": "execute_result"
    }
   ],
   "source": [
    "mahmoud.gender"
   ]
  },
  {
   "cell_type": "code",
   "execution_count": 25,
   "metadata": {},
   "outputs": [
    {
     "name": "stdout",
     "output_type": "stream",
     "text": [
      "Account has been updated  100\n"
     ]
    }
   ],
   "source": [
    "mahmoud.deposit(100)"
   ]
  },
  {
   "cell_type": "code",
   "execution_count": 27,
   "metadata": {},
   "outputs": [],
   "source": [
    "class Bank(Users):\n",
    "    def __init__(self,name, age,gender):\n",
    "        super(). __init__(name, age,gender)\n",
    "        self.balance = 0\n",
    "        \n",
    "        \n",
    "    def deposit(self,amount):\n",
    "        self.amount = amount\n",
    "        self.balance = self.balance + self.amount\n",
    "        print(\"Account balance has been updated \",self.balance)\n",
    "        \n",
    "        \n",
    "    def withdraw(self,amount):\n",
    "        self.amount = amount\n",
    "        if self.amount > self.balance :\n",
    "            print(\"Insufficient funds | balance avaiable \",self.balance)\n",
    "        else :\n",
    "            self.balance = self.balance - self.amount\n",
    "            print(\"Account balance has been updated \",self.balance)\n",
    "            \n",
    "mahmoud = Bank(\"mahmoud\",30,\"male\")"
   ]
  },
  {
   "cell_type": "code",
   "execution_count": 28,
   "metadata": {},
   "outputs": [
    {
     "name": "stdout",
     "output_type": "stream",
     "text": [
      "Account balance has been updated  250\n"
     ]
    }
   ],
   "source": [
    "mahmoud.deposit(250)"
   ]
  },
  {
   "cell_type": "code",
   "execution_count": 29,
   "metadata": {},
   "outputs": [
    {
     "name": "stdout",
     "output_type": "stream",
     "text": [
      "Insufficient funds | balance avaiable  250\n"
     ]
    }
   ],
   "source": [
    "mahmoud.withdraw(500)"
   ]
  },
  {
   "cell_type": "code",
   "execution_count": 30,
   "metadata": {},
   "outputs": [
    {
     "name": "stdout",
     "output_type": "stream",
     "text": [
      "Account balance has been updated  100\n"
     ]
    }
   ],
   "source": [
    "mahmoud.withdraw(150)"
   ]
  },
  {
   "cell_type": "code",
   "execution_count": 34,
   "metadata": {},
   "outputs": [],
   "source": [
    "class Bank(Users):\n",
    "    def __init__(self,name, age,gender):\n",
    "        super(). __init__(name, age,gender)\n",
    "        self.balance = 0\n",
    "        \n",
    "        \n",
    "    def deposit(self,amount):\n",
    "        self.amount = amount\n",
    "        self.balance = self.balance + self.amount\n",
    "        print(\"Account balance has been updated \",self.balance)\n",
    "        \n",
    "        \n",
    "    def withdraw(self,amount):\n",
    "        self.amount = amount\n",
    "        if self.amount > self.balance :\n",
    "            print(\"Insufficient funds | balance avaiable \",self.balance)\n",
    "        else :\n",
    "            self.balance = self.balance - self.amount\n",
    "            print(\"Account balance has been updated \",self.balance)\n",
    "            \n",
    "            \n",
    "    def view_balance(self):\n",
    "        self.show_details()\n",
    "        print(\"Account balance has been updated \",self.balance)\n",
    "    \n",
    "            \n",
    "mahmoud = Bank(\"mahmoud\",30,\"male\")"
   ]
  },
  {
   "cell_type": "code",
   "execution_count": 36,
   "metadata": {},
   "outputs": [
    {
     "name": "stdout",
     "output_type": "stream",
     "text": [
      "Account balance has been updated  500\n"
     ]
    }
   ],
   "source": [
    "mahmoud.deposit(500)"
   ]
  },
  {
   "cell_type": "code",
   "execution_count": 37,
   "metadata": {},
   "outputs": [
    {
     "name": "stdout",
     "output_type": "stream",
     "text": [
      "Personal details \n",
      "\n",
      "Your name mahmoud\n",
      "Your age 30\n",
      "Your gender male\n",
      "Account balance has been updated  500\n"
     ]
    }
   ],
   "source": [
    "mahmoud.view_balance()"
   ]
  },
  {
   "cell_type": "code",
   "execution_count": null,
   "metadata": {},
   "outputs": [],
   "source": []
  }
 ],
 "metadata": {
  "kernelspec": {
   "display_name": "Python 3",
   "language": "python",
   "name": "python3"
  },
  "language_info": {
   "codemirror_mode": {
    "name": "ipython",
    "version": 3
   },
   "file_extension": ".py",
   "mimetype": "text/x-python",
   "name": "python",
   "nbconvert_exporter": "python",
   "pygments_lexer": "ipython3",
   "version": "3.6.8"
  }
 },
 "nbformat": 4,
 "nbformat_minor": 2
}
